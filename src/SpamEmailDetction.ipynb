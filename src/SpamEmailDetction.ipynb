{
 "cells": [
  {
   "cell_type": "code",
   "execution_count": 283,
   "outputs": [],
   "source": [
    "import numpy as np\n",
    "import pandas as pd"
   ],
   "metadata": {
    "collapsed": false
   }
  },
  {
   "cell_type": "markdown",
   "source": [
    "## Loading the dataset checking the shape."
   ],
   "metadata": {
    "collapsed": false
   }
  },
  {
   "cell_type": "code",
   "execution_count": 284,
   "outputs": [
    {
     "name": "stdout",
     "output_type": "stream",
     "text": [
      "(5730, 110)\n"
     ]
    }
   ],
   "source": [
    "df: pd.DataFrame = pd.read_csv(\"Dataset/emails.csv\")\n",
    "# printing the shape of the dataset\n",
    "print(df.shape)"
   ],
   "metadata": {
    "collapsed": false
   }
  },
  {
   "cell_type": "markdown",
   "source": [
    "## Checking heads and tails for 10 rows of dataset."
   ],
   "metadata": {
    "collapsed": false
   }
  },
  {
   "cell_type": "code",
   "execution_count": 285,
   "outputs": [
    {
     "data": {
      "text/plain": "                                                text spam Unnamed: 2  \\\n0  Subject: naturally irresistible your corporate...  YES        NaN   \n1  Subject: the stock trading gunslinger  fanny i...  YES        NaN   \n2  Subject: unbelievable new homes made easy  im ...  YES        NaN   \n3  Subject: 4 color printing special  request add...  YES        NaN   \n4  Subject: do not have money , get software cds ...  YES        NaN   \n5  Subject: great nnews  hello , welcome to medzo...  YES        NaN   \n6  Subject: here ' s a hot play in motion  homela...  YES        NaN   \n7  Subject: save your money buy getting this thin...  YES        NaN   \n8  Subject: undeliverable : home based business f...  YES        NaN   \n9  Subject: save your money buy getting this thin...  YES        NaN   \n\n  Unnamed: 3 Unnamed: 4 Unnamed: 5 Unnamed: 6 Unnamed: 7 Unnamed: 8  \\\n0        NaN        NaN        NaN        NaN        NaN        NaN   \n1        NaN        NaN        NaN        NaN        NaN        NaN   \n2        NaN        NaN        NaN        NaN        NaN        NaN   \n3        NaN        NaN        NaN        NaN        NaN        NaN   \n4        NaN        NaN        NaN        NaN        NaN        NaN   \n5        NaN        NaN        NaN        NaN        NaN        NaN   \n6        NaN        NaN        NaN        NaN        NaN        NaN   \n7        NaN        NaN        NaN        NaN        NaN        NaN   \n8        NaN        NaN        NaN        NaN        NaN        NaN   \n9        NaN        NaN        NaN        NaN        NaN        NaN   \n\n  Unnamed: 9  ... Unnamed: 100 Unnamed: 101 Unnamed: 102 Unnamed: 103  \\\n0        NaN  ...          NaN          NaN          NaN          NaN   \n1        NaN  ...          NaN          NaN          NaN          NaN   \n2        NaN  ...          NaN          NaN          NaN          NaN   \n3        NaN  ...          NaN          NaN          NaN          NaN   \n4        NaN  ...          NaN          NaN          NaN          NaN   \n5        NaN  ...          NaN          NaN          NaN          NaN   \n6        NaN  ...          NaN          NaN          NaN          NaN   \n7        NaN  ...          NaN          NaN          NaN          NaN   \n8        NaN  ...          NaN          NaN          NaN          NaN   \n9        NaN  ...          NaN          NaN          NaN          NaN   \n\n  Unnamed: 104 Unnamed: 105 Unnamed: 106 Unnamed: 107 Unnamed: 108  \\\n0          NaN          NaN          NaN          NaN          NaN   \n1          NaN          NaN          NaN          NaN          NaN   \n2          NaN          NaN          NaN          NaN          NaN   \n3          NaN          NaN          NaN          NaN          NaN   \n4          NaN          NaN          NaN          NaN          NaN   \n5          NaN          NaN          NaN          NaN          NaN   \n6          NaN          NaN          NaN          NaN          NaN   \n7          NaN          NaN          NaN          NaN          NaN   \n8          NaN          NaN          NaN          NaN          NaN   \n9          NaN          NaN          NaN          NaN          NaN   \n\n  Unnamed: 109  \n0          NaN  \n1          NaN  \n2          NaN  \n3          NaN  \n4          NaN  \n5          NaN  \n6          NaN  \n7          NaN  \n8          NaN  \n9          NaN  \n\n[10 rows x 110 columns]",
      "text/html": "<div>\n<style scoped>\n    .dataframe tbody tr th:only-of-type {\n        vertical-align: middle;\n    }\n\n    .dataframe tbody tr th {\n        vertical-align: top;\n    }\n\n    .dataframe thead th {\n        text-align: right;\n    }\n</style>\n<table border=\"1\" class=\"dataframe\">\n  <thead>\n    <tr style=\"text-align: right;\">\n      <th></th>\n      <th>text</th>\n      <th>spam</th>\n      <th>Unnamed: 2</th>\n      <th>Unnamed: 3</th>\n      <th>Unnamed: 4</th>\n      <th>Unnamed: 5</th>\n      <th>Unnamed: 6</th>\n      <th>Unnamed: 7</th>\n      <th>Unnamed: 8</th>\n      <th>Unnamed: 9</th>\n      <th>...</th>\n      <th>Unnamed: 100</th>\n      <th>Unnamed: 101</th>\n      <th>Unnamed: 102</th>\n      <th>Unnamed: 103</th>\n      <th>Unnamed: 104</th>\n      <th>Unnamed: 105</th>\n      <th>Unnamed: 106</th>\n      <th>Unnamed: 107</th>\n      <th>Unnamed: 108</th>\n      <th>Unnamed: 109</th>\n    </tr>\n  </thead>\n  <tbody>\n    <tr>\n      <th>0</th>\n      <td>Subject: naturally irresistible your corporate...</td>\n      <td>YES</td>\n      <td>NaN</td>\n      <td>NaN</td>\n      <td>NaN</td>\n      <td>NaN</td>\n      <td>NaN</td>\n      <td>NaN</td>\n      <td>NaN</td>\n      <td>NaN</td>\n      <td>...</td>\n      <td>NaN</td>\n      <td>NaN</td>\n      <td>NaN</td>\n      <td>NaN</td>\n      <td>NaN</td>\n      <td>NaN</td>\n      <td>NaN</td>\n      <td>NaN</td>\n      <td>NaN</td>\n      <td>NaN</td>\n    </tr>\n    <tr>\n      <th>1</th>\n      <td>Subject: the stock trading gunslinger  fanny i...</td>\n      <td>YES</td>\n      <td>NaN</td>\n      <td>NaN</td>\n      <td>NaN</td>\n      <td>NaN</td>\n      <td>NaN</td>\n      <td>NaN</td>\n      <td>NaN</td>\n      <td>NaN</td>\n      <td>...</td>\n      <td>NaN</td>\n      <td>NaN</td>\n      <td>NaN</td>\n      <td>NaN</td>\n      <td>NaN</td>\n      <td>NaN</td>\n      <td>NaN</td>\n      <td>NaN</td>\n      <td>NaN</td>\n      <td>NaN</td>\n    </tr>\n    <tr>\n      <th>2</th>\n      <td>Subject: unbelievable new homes made easy  im ...</td>\n      <td>YES</td>\n      <td>NaN</td>\n      <td>NaN</td>\n      <td>NaN</td>\n      <td>NaN</td>\n      <td>NaN</td>\n      <td>NaN</td>\n      <td>NaN</td>\n      <td>NaN</td>\n      <td>...</td>\n      <td>NaN</td>\n      <td>NaN</td>\n      <td>NaN</td>\n      <td>NaN</td>\n      <td>NaN</td>\n      <td>NaN</td>\n      <td>NaN</td>\n      <td>NaN</td>\n      <td>NaN</td>\n      <td>NaN</td>\n    </tr>\n    <tr>\n      <th>3</th>\n      <td>Subject: 4 color printing special  request add...</td>\n      <td>YES</td>\n      <td>NaN</td>\n      <td>NaN</td>\n      <td>NaN</td>\n      <td>NaN</td>\n      <td>NaN</td>\n      <td>NaN</td>\n      <td>NaN</td>\n      <td>NaN</td>\n      <td>...</td>\n      <td>NaN</td>\n      <td>NaN</td>\n      <td>NaN</td>\n      <td>NaN</td>\n      <td>NaN</td>\n      <td>NaN</td>\n      <td>NaN</td>\n      <td>NaN</td>\n      <td>NaN</td>\n      <td>NaN</td>\n    </tr>\n    <tr>\n      <th>4</th>\n      <td>Subject: do not have money , get software cds ...</td>\n      <td>YES</td>\n      <td>NaN</td>\n      <td>NaN</td>\n      <td>NaN</td>\n      <td>NaN</td>\n      <td>NaN</td>\n      <td>NaN</td>\n      <td>NaN</td>\n      <td>NaN</td>\n      <td>...</td>\n      <td>NaN</td>\n      <td>NaN</td>\n      <td>NaN</td>\n      <td>NaN</td>\n      <td>NaN</td>\n      <td>NaN</td>\n      <td>NaN</td>\n      <td>NaN</td>\n      <td>NaN</td>\n      <td>NaN</td>\n    </tr>\n    <tr>\n      <th>5</th>\n      <td>Subject: great nnews  hello , welcome to medzo...</td>\n      <td>YES</td>\n      <td>NaN</td>\n      <td>NaN</td>\n      <td>NaN</td>\n      <td>NaN</td>\n      <td>NaN</td>\n      <td>NaN</td>\n      <td>NaN</td>\n      <td>NaN</td>\n      <td>...</td>\n      <td>NaN</td>\n      <td>NaN</td>\n      <td>NaN</td>\n      <td>NaN</td>\n      <td>NaN</td>\n      <td>NaN</td>\n      <td>NaN</td>\n      <td>NaN</td>\n      <td>NaN</td>\n      <td>NaN</td>\n    </tr>\n    <tr>\n      <th>6</th>\n      <td>Subject: here ' s a hot play in motion  homela...</td>\n      <td>YES</td>\n      <td>NaN</td>\n      <td>NaN</td>\n      <td>NaN</td>\n      <td>NaN</td>\n      <td>NaN</td>\n      <td>NaN</td>\n      <td>NaN</td>\n      <td>NaN</td>\n      <td>...</td>\n      <td>NaN</td>\n      <td>NaN</td>\n      <td>NaN</td>\n      <td>NaN</td>\n      <td>NaN</td>\n      <td>NaN</td>\n      <td>NaN</td>\n      <td>NaN</td>\n      <td>NaN</td>\n      <td>NaN</td>\n    </tr>\n    <tr>\n      <th>7</th>\n      <td>Subject: save your money buy getting this thin...</td>\n      <td>YES</td>\n      <td>NaN</td>\n      <td>NaN</td>\n      <td>NaN</td>\n      <td>NaN</td>\n      <td>NaN</td>\n      <td>NaN</td>\n      <td>NaN</td>\n      <td>NaN</td>\n      <td>...</td>\n      <td>NaN</td>\n      <td>NaN</td>\n      <td>NaN</td>\n      <td>NaN</td>\n      <td>NaN</td>\n      <td>NaN</td>\n      <td>NaN</td>\n      <td>NaN</td>\n      <td>NaN</td>\n      <td>NaN</td>\n    </tr>\n    <tr>\n      <th>8</th>\n      <td>Subject: undeliverable : home based business f...</td>\n      <td>YES</td>\n      <td>NaN</td>\n      <td>NaN</td>\n      <td>NaN</td>\n      <td>NaN</td>\n      <td>NaN</td>\n      <td>NaN</td>\n      <td>NaN</td>\n      <td>NaN</td>\n      <td>...</td>\n      <td>NaN</td>\n      <td>NaN</td>\n      <td>NaN</td>\n      <td>NaN</td>\n      <td>NaN</td>\n      <td>NaN</td>\n      <td>NaN</td>\n      <td>NaN</td>\n      <td>NaN</td>\n      <td>NaN</td>\n    </tr>\n    <tr>\n      <th>9</th>\n      <td>Subject: save your money buy getting this thin...</td>\n      <td>YES</td>\n      <td>NaN</td>\n      <td>NaN</td>\n      <td>NaN</td>\n      <td>NaN</td>\n      <td>NaN</td>\n      <td>NaN</td>\n      <td>NaN</td>\n      <td>NaN</td>\n      <td>...</td>\n      <td>NaN</td>\n      <td>NaN</td>\n      <td>NaN</td>\n      <td>NaN</td>\n      <td>NaN</td>\n      <td>NaN</td>\n      <td>NaN</td>\n      <td>NaN</td>\n      <td>NaN</td>\n      <td>NaN</td>\n    </tr>\n  </tbody>\n</table>\n<p>10 rows × 110 columns</p>\n</div>"
     },
     "execution_count": 285,
     "metadata": {},
     "output_type": "execute_result"
    }
   ],
   "source": [
    "# Viewing the first 10 rows of the dataset.\n",
    "df.head(10)"
   ],
   "metadata": {
    "collapsed": false
   }
  },
  {
   "cell_type": "code",
   "execution_count": 286,
   "outputs": [
    {
     "data": {
      "text/plain": "                                                   text spam Unnamed: 2  \\\n5720  Subject: altos na gas model  kim , i know you ...   NO        NaN   \n5721  Subject: power market research  i came across ...   NO        NaN   \n5722  Subject: re : visit to houston  fyi  - - - - -...   NO        NaN   \n5723  Subject: ees risk management presentations for...   NO        NaN   \n5724  Subject: re : vacation  vince :  i just found ...   NO        NaN   \n5725  Subject: re : research and development charges...   NO        NaN   \n5726  Subject: re : receipts from visit  jim ,  than...   NO        NaN   \n5727  Subject: re : enron case study update  wow ! a...   NO        NaN   \n5728  Subject: re : interest  david ,  please , call...   NO        NaN   \n5729  Subject: news : aurora 5 . 2 update  aurora ve...   NO        NaN   \n\n     Unnamed: 3 Unnamed: 4 Unnamed: 5 Unnamed: 6 Unnamed: 7 Unnamed: 8  \\\n5720        NaN        NaN        NaN        NaN        NaN        NaN   \n5721        NaN        NaN        NaN        NaN        NaN        NaN   \n5722        NaN        NaN        NaN        NaN        NaN        NaN   \n5723        NaN        NaN        NaN        NaN        NaN        NaN   \n5724        NaN        NaN        NaN        NaN        NaN        NaN   \n5725        NaN        NaN        NaN        NaN        NaN        NaN   \n5726        NaN        NaN        NaN        NaN        NaN        NaN   \n5727        NaN        NaN        NaN        NaN        NaN        NaN   \n5728        NaN        NaN        NaN        NaN        NaN        NaN   \n5729        NaN        NaN        NaN        NaN        NaN        NaN   \n\n     Unnamed: 9  ... Unnamed: 100 Unnamed: 101 Unnamed: 102 Unnamed: 103  \\\n5720        NaN  ...          NaN          NaN          NaN          NaN   \n5721        NaN  ...          NaN          NaN          NaN          NaN   \n5722        NaN  ...          NaN          NaN          NaN          NaN   \n5723        NaN  ...          NaN          NaN          NaN          NaN   \n5724        NaN  ...          NaN          NaN          NaN          NaN   \n5725        NaN  ...          NaN          NaN          NaN          NaN   \n5726        NaN  ...          NaN          NaN          NaN          NaN   \n5727        NaN  ...          NaN          NaN          NaN          NaN   \n5728        NaN  ...          NaN          NaN          NaN          NaN   \n5729        NaN  ...          NaN          NaN          NaN          NaN   \n\n     Unnamed: 104 Unnamed: 105 Unnamed: 106 Unnamed: 107 Unnamed: 108  \\\n5720          NaN          NaN          NaN          NaN          NaN   \n5721          NaN          NaN          NaN          NaN          NaN   \n5722          NaN          NaN          NaN          NaN          NaN   \n5723          NaN          NaN          NaN          NaN          NaN   \n5724          NaN          NaN          NaN          NaN          NaN   \n5725          NaN          NaN          NaN          NaN          NaN   \n5726          NaN          NaN          NaN          NaN          NaN   \n5727          NaN          NaN          NaN          NaN          NaN   \n5728          NaN          NaN          NaN          NaN          NaN   \n5729          NaN          NaN          NaN          NaN          NaN   \n\n     Unnamed: 109  \n5720          NaN  \n5721          NaN  \n5722          NaN  \n5723          NaN  \n5724          NaN  \n5725          NaN  \n5726          NaN  \n5727          NaN  \n5728          NaN  \n5729          NaN  \n\n[10 rows x 110 columns]",
      "text/html": "<div>\n<style scoped>\n    .dataframe tbody tr th:only-of-type {\n        vertical-align: middle;\n    }\n\n    .dataframe tbody tr th {\n        vertical-align: top;\n    }\n\n    .dataframe thead th {\n        text-align: right;\n    }\n</style>\n<table border=\"1\" class=\"dataframe\">\n  <thead>\n    <tr style=\"text-align: right;\">\n      <th></th>\n      <th>text</th>\n      <th>spam</th>\n      <th>Unnamed: 2</th>\n      <th>Unnamed: 3</th>\n      <th>Unnamed: 4</th>\n      <th>Unnamed: 5</th>\n      <th>Unnamed: 6</th>\n      <th>Unnamed: 7</th>\n      <th>Unnamed: 8</th>\n      <th>Unnamed: 9</th>\n      <th>...</th>\n      <th>Unnamed: 100</th>\n      <th>Unnamed: 101</th>\n      <th>Unnamed: 102</th>\n      <th>Unnamed: 103</th>\n      <th>Unnamed: 104</th>\n      <th>Unnamed: 105</th>\n      <th>Unnamed: 106</th>\n      <th>Unnamed: 107</th>\n      <th>Unnamed: 108</th>\n      <th>Unnamed: 109</th>\n    </tr>\n  </thead>\n  <tbody>\n    <tr>\n      <th>5720</th>\n      <td>Subject: altos na gas model  kim , i know you ...</td>\n      <td>NO</td>\n      <td>NaN</td>\n      <td>NaN</td>\n      <td>NaN</td>\n      <td>NaN</td>\n      <td>NaN</td>\n      <td>NaN</td>\n      <td>NaN</td>\n      <td>NaN</td>\n      <td>...</td>\n      <td>NaN</td>\n      <td>NaN</td>\n      <td>NaN</td>\n      <td>NaN</td>\n      <td>NaN</td>\n      <td>NaN</td>\n      <td>NaN</td>\n      <td>NaN</td>\n      <td>NaN</td>\n      <td>NaN</td>\n    </tr>\n    <tr>\n      <th>5721</th>\n      <td>Subject: power market research  i came across ...</td>\n      <td>NO</td>\n      <td>NaN</td>\n      <td>NaN</td>\n      <td>NaN</td>\n      <td>NaN</td>\n      <td>NaN</td>\n      <td>NaN</td>\n      <td>NaN</td>\n      <td>NaN</td>\n      <td>...</td>\n      <td>NaN</td>\n      <td>NaN</td>\n      <td>NaN</td>\n      <td>NaN</td>\n      <td>NaN</td>\n      <td>NaN</td>\n      <td>NaN</td>\n      <td>NaN</td>\n      <td>NaN</td>\n      <td>NaN</td>\n    </tr>\n    <tr>\n      <th>5722</th>\n      <td>Subject: re : visit to houston  fyi  - - - - -...</td>\n      <td>NO</td>\n      <td>NaN</td>\n      <td>NaN</td>\n      <td>NaN</td>\n      <td>NaN</td>\n      <td>NaN</td>\n      <td>NaN</td>\n      <td>NaN</td>\n      <td>NaN</td>\n      <td>...</td>\n      <td>NaN</td>\n      <td>NaN</td>\n      <td>NaN</td>\n      <td>NaN</td>\n      <td>NaN</td>\n      <td>NaN</td>\n      <td>NaN</td>\n      <td>NaN</td>\n      <td>NaN</td>\n      <td>NaN</td>\n    </tr>\n    <tr>\n      <th>5723</th>\n      <td>Subject: ees risk management presentations for...</td>\n      <td>NO</td>\n      <td>NaN</td>\n      <td>NaN</td>\n      <td>NaN</td>\n      <td>NaN</td>\n      <td>NaN</td>\n      <td>NaN</td>\n      <td>NaN</td>\n      <td>NaN</td>\n      <td>...</td>\n      <td>NaN</td>\n      <td>NaN</td>\n      <td>NaN</td>\n      <td>NaN</td>\n      <td>NaN</td>\n      <td>NaN</td>\n      <td>NaN</td>\n      <td>NaN</td>\n      <td>NaN</td>\n      <td>NaN</td>\n    </tr>\n    <tr>\n      <th>5724</th>\n      <td>Subject: re : vacation  vince :  i just found ...</td>\n      <td>NO</td>\n      <td>NaN</td>\n      <td>NaN</td>\n      <td>NaN</td>\n      <td>NaN</td>\n      <td>NaN</td>\n      <td>NaN</td>\n      <td>NaN</td>\n      <td>NaN</td>\n      <td>...</td>\n      <td>NaN</td>\n      <td>NaN</td>\n      <td>NaN</td>\n      <td>NaN</td>\n      <td>NaN</td>\n      <td>NaN</td>\n      <td>NaN</td>\n      <td>NaN</td>\n      <td>NaN</td>\n      <td>NaN</td>\n    </tr>\n    <tr>\n      <th>5725</th>\n      <td>Subject: re : research and development charges...</td>\n      <td>NO</td>\n      <td>NaN</td>\n      <td>NaN</td>\n      <td>NaN</td>\n      <td>NaN</td>\n      <td>NaN</td>\n      <td>NaN</td>\n      <td>NaN</td>\n      <td>NaN</td>\n      <td>...</td>\n      <td>NaN</td>\n      <td>NaN</td>\n      <td>NaN</td>\n      <td>NaN</td>\n      <td>NaN</td>\n      <td>NaN</td>\n      <td>NaN</td>\n      <td>NaN</td>\n      <td>NaN</td>\n      <td>NaN</td>\n    </tr>\n    <tr>\n      <th>5726</th>\n      <td>Subject: re : receipts from visit  jim ,  than...</td>\n      <td>NO</td>\n      <td>NaN</td>\n      <td>NaN</td>\n      <td>NaN</td>\n      <td>NaN</td>\n      <td>NaN</td>\n      <td>NaN</td>\n      <td>NaN</td>\n      <td>NaN</td>\n      <td>...</td>\n      <td>NaN</td>\n      <td>NaN</td>\n      <td>NaN</td>\n      <td>NaN</td>\n      <td>NaN</td>\n      <td>NaN</td>\n      <td>NaN</td>\n      <td>NaN</td>\n      <td>NaN</td>\n      <td>NaN</td>\n    </tr>\n    <tr>\n      <th>5727</th>\n      <td>Subject: re : enron case study update  wow ! a...</td>\n      <td>NO</td>\n      <td>NaN</td>\n      <td>NaN</td>\n      <td>NaN</td>\n      <td>NaN</td>\n      <td>NaN</td>\n      <td>NaN</td>\n      <td>NaN</td>\n      <td>NaN</td>\n      <td>...</td>\n      <td>NaN</td>\n      <td>NaN</td>\n      <td>NaN</td>\n      <td>NaN</td>\n      <td>NaN</td>\n      <td>NaN</td>\n      <td>NaN</td>\n      <td>NaN</td>\n      <td>NaN</td>\n      <td>NaN</td>\n    </tr>\n    <tr>\n      <th>5728</th>\n      <td>Subject: re : interest  david ,  please , call...</td>\n      <td>NO</td>\n      <td>NaN</td>\n      <td>NaN</td>\n      <td>NaN</td>\n      <td>NaN</td>\n      <td>NaN</td>\n      <td>NaN</td>\n      <td>NaN</td>\n      <td>NaN</td>\n      <td>...</td>\n      <td>NaN</td>\n      <td>NaN</td>\n      <td>NaN</td>\n      <td>NaN</td>\n      <td>NaN</td>\n      <td>NaN</td>\n      <td>NaN</td>\n      <td>NaN</td>\n      <td>NaN</td>\n      <td>NaN</td>\n    </tr>\n    <tr>\n      <th>5729</th>\n      <td>Subject: news : aurora 5 . 2 update  aurora ve...</td>\n      <td>NO</td>\n      <td>NaN</td>\n      <td>NaN</td>\n      <td>NaN</td>\n      <td>NaN</td>\n      <td>NaN</td>\n      <td>NaN</td>\n      <td>NaN</td>\n      <td>NaN</td>\n      <td>...</td>\n      <td>NaN</td>\n      <td>NaN</td>\n      <td>NaN</td>\n      <td>NaN</td>\n      <td>NaN</td>\n      <td>NaN</td>\n      <td>NaN</td>\n      <td>NaN</td>\n      <td>NaN</td>\n      <td>NaN</td>\n    </tr>\n  </tbody>\n</table>\n<p>10 rows × 110 columns</p>\n</div>"
     },
     "execution_count": 286,
     "metadata": {},
     "output_type": "execute_result"
    }
   ],
   "source": [
    "# Viewing the last 10 rows of the datasets.\n",
    "df.tail(10)"
   ],
   "metadata": {
    "collapsed": false
   }
  },
  {
   "cell_type": "markdown",
   "source": [
    "## Data preprocessing"
   ],
   "metadata": {
    "collapsed": false
   }
  },
  {
   "cell_type": "code",
   "execution_count": 287,
   "outputs": [
    {
     "name": "stdout",
     "output_type": "stream",
     "text": [
      "text               0\n",
      "spam               2\n",
      "Unnamed: 2      5728\n",
      "Unnamed: 3      5728\n",
      "Unnamed: 4      5728\n",
      "                ... \n",
      "Unnamed: 105    5728\n",
      "Unnamed: 106    5728\n",
      "Unnamed: 107    5729\n",
      "Unnamed: 108    5729\n",
      "Unnamed: 109    5729\n",
      "Length: 110, dtype: int64\n"
     ]
    }
   ],
   "source": [
    "# Checking for null values.\n",
    "print(df.isnull().sum())"
   ],
   "metadata": {
    "collapsed": false
   }
  },
  {
   "cell_type": "markdown",
   "source": [
    "<font size=\"6\">A lot of Unnamed **null/NaN** columns. Need to get rid of them.</font>"
   ],
   "metadata": {
    "collapsed": false
   }
  },
  {
   "cell_type": "code",
   "execution_count": 288,
   "outputs": [],
   "source": [
    "# Getting rid of these unnecessary null columns.\n",
    "df = df.iloc[:, :2]"
   ],
   "metadata": {
    "collapsed": false
   }
  },
  {
   "cell_type": "code",
   "execution_count": 289,
   "outputs": [
    {
     "name": "stdout",
     "output_type": "stream",
     "text": [
      "(5730, 2)\n"
     ]
    },
    {
     "data": {
      "text/plain": "                                                text spam\n0  Subject: naturally irresistible your corporate...  YES\n1  Subject: the stock trading gunslinger  fanny i...  YES\n2  Subject: unbelievable new homes made easy  im ...  YES\n3  Subject: 4 color printing special  request add...  YES\n4  Subject: do not have money , get software cds ...  YES\n5  Subject: great nnews  hello , welcome to medzo...  YES\n6  Subject: here ' s a hot play in motion  homela...  YES\n7  Subject: save your money buy getting this thin...  YES\n8  Subject: undeliverable : home based business f...  YES\n9  Subject: save your money buy getting this thin...  YES",
      "text/html": "<div>\n<style scoped>\n    .dataframe tbody tr th:only-of-type {\n        vertical-align: middle;\n    }\n\n    .dataframe tbody tr th {\n        vertical-align: top;\n    }\n\n    .dataframe thead th {\n        text-align: right;\n    }\n</style>\n<table border=\"1\" class=\"dataframe\">\n  <thead>\n    <tr style=\"text-align: right;\">\n      <th></th>\n      <th>text</th>\n      <th>spam</th>\n    </tr>\n  </thead>\n  <tbody>\n    <tr>\n      <th>0</th>\n      <td>Subject: naturally irresistible your corporate...</td>\n      <td>YES</td>\n    </tr>\n    <tr>\n      <th>1</th>\n      <td>Subject: the stock trading gunslinger  fanny i...</td>\n      <td>YES</td>\n    </tr>\n    <tr>\n      <th>2</th>\n      <td>Subject: unbelievable new homes made easy  im ...</td>\n      <td>YES</td>\n    </tr>\n    <tr>\n      <th>3</th>\n      <td>Subject: 4 color printing special  request add...</td>\n      <td>YES</td>\n    </tr>\n    <tr>\n      <th>4</th>\n      <td>Subject: do not have money , get software cds ...</td>\n      <td>YES</td>\n    </tr>\n    <tr>\n      <th>5</th>\n      <td>Subject: great nnews  hello , welcome to medzo...</td>\n      <td>YES</td>\n    </tr>\n    <tr>\n      <th>6</th>\n      <td>Subject: here ' s a hot play in motion  homela...</td>\n      <td>YES</td>\n    </tr>\n    <tr>\n      <th>7</th>\n      <td>Subject: save your money buy getting this thin...</td>\n      <td>YES</td>\n    </tr>\n    <tr>\n      <th>8</th>\n      <td>Subject: undeliverable : home based business f...</td>\n      <td>YES</td>\n    </tr>\n    <tr>\n      <th>9</th>\n      <td>Subject: save your money buy getting this thin...</td>\n      <td>YES</td>\n    </tr>\n  </tbody>\n</table>\n</div>"
     },
     "execution_count": 289,
     "metadata": {},
     "output_type": "execute_result"
    }
   ],
   "source": [
    "# Checking the current shape of data frame\n",
    "print(df.shape)\n",
    "df.head(10)"
   ],
   "metadata": {
    "collapsed": false
   }
  },
  {
   "cell_type": "markdown",
   "source": [],
   "metadata": {
    "collapsed": false
   }
  },
  {
   "cell_type": "markdown",
   "source": [
    " <font size=\"6\">Got rid of unnecessary null columns.However, `spam` column is not yet encoded. Need to encode it.</font>"
   ],
   "metadata": {
    "collapsed": false
   }
  },
  {
   "cell_type": "code",
   "execution_count": 290,
   "outputs": [
    {
     "data": {
      "text/plain": "array(['YES', 'NO', nan,\n       ' its termination would not  have such a phenomenal impact on the power situation .  however ',\n       ' mr suresh prabhu '], dtype=object)"
     },
     "execution_count": 290,
     "metadata": {},
     "output_type": "execute_result"
    }
   ],
   "source": [
    "# Will replace `YES` -> 1 and `NO` -> 0\n",
    "# But first need to check if how many **unique** values are there.\n",
    "# Depending on that, will need to choose the encoding type.\n",
    "df['spam'].unique()"
   ],
   "metadata": {
    "collapsed": false
   }
  },
  {
   "cell_type": "code",
   "execution_count": 291,
   "outputs": [
    {
     "name": "stdout",
     "output_type": "stream",
     "text": [
      "text    0\n",
      "spam    2\n",
      "dtype: int64\n"
     ]
    }
   ],
   "source": [
    "# Need to get rid of NaN and unnecessary things.\n",
    "print(df.isnull().sum())"
   ],
   "metadata": {
    "collapsed": false
   }
  },
  {
   "cell_type": "code",
   "execution_count": 292,
   "outputs": [
    {
     "name": "stdout",
     "output_type": "stream",
     "text": [
      "(5728, 2)\n"
     ]
    },
    {
     "data": {
      "text/plain": "text    0\nspam    0\ndtype: int64"
     },
     "execution_count": 292,
     "metadata": {},
     "output_type": "execute_result"
    }
   ],
   "source": [
    "df.dropna(inplace=True)\n",
    "print(df.shape)\n",
    "df.isnull().sum()"
   ],
   "metadata": {
    "collapsed": false
   }
  },
  {
   "cell_type": "code",
   "execution_count": 293,
   "outputs": [
    {
     "data": {
      "text/plain": "array(['YES', 'NO'], dtype=object)"
     },
     "execution_count": 293,
     "metadata": {},
     "output_type": "execute_result"
    }
   ],
   "source": [
    "# Got rid of NaN/null values now it's time to get rid of unnecessary values.\n",
    "index_of_unnecessary_values: np.ndarray = df[(df['spam'] != 'YES') & (df['spam'] != 'NO')].index.values\n",
    "# Got the index. Now it's time to drop them.\n",
    "df.drop(index_of_unnecessary_values, inplace=True)\n",
    "# Checking the checking if this worked.\n",
    "df['spam'].unique()"
   ],
   "metadata": {
    "collapsed": false
   }
  },
  {
   "cell_type": "markdown",
   "source": [
    "<font size=\"6\"> only two values! **Binary** categorical encoding </font>"
   ],
   "metadata": {
    "collapsed": false
   }
  },
  {
   "cell_type": "code",
   "execution_count": 294,
   "outputs": [
    {
     "name": "stdout",
     "output_type": "stream",
     "text": [
      "                                                text  spam\n",
      "0  Subject: naturally irresistible your corporate...     1\n",
      "1  Subject: the stock trading gunslinger  fanny i...     1\n",
      "2  Subject: unbelievable new homes made easy  im ...     1\n",
      "3  Subject: 4 color printing special  request add...     1\n",
      "4  Subject: do not have money , get software cds ...     1\n",
      "5  Subject: great nnews  hello , welcome to medzo...     1\n",
      "6  Subject: here ' s a hot play in motion  homela...     1\n",
      "7  Subject: save your money buy getting this thin...     1\n",
      "8  Subject: undeliverable : home based business f...     1\n",
      "9  Subject: save your money buy getting this thin...     1\n",
      "                                                   text  spam\n",
      "5720  Subject: altos na gas model  kim , i know you ...     0\n",
      "5721  Subject: power market research  i came across ...     0\n",
      "5722  Subject: re : visit to houston  fyi  - - - - -...     0\n",
      "5723  Subject: ees risk management presentations for...     0\n",
      "5724  Subject: re : vacation  vince :  i just found ...     0\n",
      "5725  Subject: re : research and development charges...     0\n",
      "5726  Subject: re : receipts from visit  jim ,  than...     0\n",
      "5727  Subject: re : enron case study update  wow ! a...     0\n",
      "5728  Subject: re : interest  david ,  please , call...     0\n",
      "5729  Subject: news : aurora 5 . 2 update  aurora ve...     0\n"
     ]
    }
   ],
   "source": [
    "# Using map() to make changes instead of using sk learn library.\n",
    "df['spam'] = df['spam'].map({'YES': 1, 'NO': 0})\n",
    "print(df.head(10))\n",
    "print(df.tail(10))"
   ],
   "metadata": {
    "collapsed": false
   }
  },
  {
   "cell_type": "code",
   "execution_count": 295,
   "outputs": [
    {
     "data": {
      "text/plain": "True"
     },
     "execution_count": 295,
     "metadata": {},
     "output_type": "execute_result"
    }
   ],
   "source": [
    "# Now, need to check for the duplicate values and get rid of them as well.\n",
    "df.duplicated().values.__contains__(False)"
   ],
   "metadata": {
    "collapsed": false
   }
  },
  {
   "cell_type": "markdown",
   "source": [
    "<font size=\"6\">As the data set contains **duplicate** values. Need to get rid of them</font>"
   ],
   "metadata": {
    "collapsed": false
   }
  },
  {
   "cell_type": "code",
   "execution_count": 296,
   "outputs": [
    {
     "data": {
      "text/plain": "False"
     },
     "execution_count": 296,
     "metadata": {},
     "output_type": "execute_result"
    }
   ],
   "source": [
    "# It contains duplicate values, so need to get rid of them\n",
    "df.drop_duplicates(inplace=True)\n",
    "# Testing if any more duplicate values.\n",
    "df.duplicated().values.__contains__(True)"
   ],
   "metadata": {
    "collapsed": false
   }
  },
  {
   "cell_type": "markdown",
   "source": [],
   "metadata": {
    "collapsed": false
   }
  },
  {
   "cell_type": "markdown",
   "source": [
    "<font size=\"6\">It's time to tokenize the text!\n",
    "First will try it with CountVectorizer and then with TfidVectorizer and then comparing the accuracies.\n",
    "Later will try with different models and check as well!</font>"
   ],
   "metadata": {
    "collapsed": false
   }
  },
  {
   "cell_type": "code",
   "execution_count": 297,
   "outputs": [
    {
     "name": "stdout",
     "output_type": "stream",
     "text": [
      "  (0, 32261)\t1\n",
      "  (0, 23314)\t1\n",
      "  (0, 18781)\t1\n",
      "  (0, 36899)\t7\n",
      "  (0, 10021)\t1\n",
      "  (0, 17635)\t1\n",
      "  (0, 21087)\t1\n",
      "  (0, 18791)\t3\n",
      "  (0, 27928)\t1\n",
      "  (0, 16609)\t1\n",
      "  (0, 33682)\t4\n",
      "  (0, 28052)\t1\n",
      "  (0, 9259)\t3\n",
      "  (0, 33336)\t5\n",
      "  (0, 21601)\t2\n",
      "  (0, 15369)\t1\n",
      "  (0, 24203)\t4\n",
      "  (0, 32525)\t1\n",
      "  (0, 4822)\t5\n",
      "  (0, 18178)\t1\n",
      "  (0, 18827)\t1\n",
      "  (0, 7527)\t2\n",
      "  (0, 16026)\t2\n",
      "  (0, 8024)\t1\n",
      "  (0, 20900)\t3\n",
      "  :\t:\n",
      "  (5692, 24779)\t2\n",
      "  (5692, 21571)\t1\n",
      "  (5692, 5701)\t9\n",
      "  (5692, 30865)\t1\n",
      "  (5692, 2799)\t3\n",
      "  (5692, 13286)\t1\n",
      "  (5692, 13075)\t1\n",
      "  (5692, 17328)\t1\n",
      "  (5692, 14076)\t1\n",
      "  (5692, 20217)\t1\n",
      "  (5692, 31754)\t1\n",
      "  (5692, 13076)\t1\n",
      "  (5692, 20411)\t1\n",
      "  (5692, 35214)\t1\n",
      "  (5692, 8593)\t1\n",
      "  (5692, 30019)\t1\n",
      "  (5692, 13469)\t5\n",
      "  (5692, 36118)\t1\n",
      "  (5692, 939)\t2\n",
      "  (5692, 2768)\t1\n",
      "  (5692, 30216)\t1\n",
      "  (5692, 17529)\t1\n",
      "  (5692, 33853)\t1\n",
      "  (5692, 10328)\t1\n",
      "  (5692, 11336)\t1\n",
      "[[0 0 0 ... 0 0 0]\n",
      " [0 0 0 ... 0 0 0]\n",
      " [0 0 0 ... 0 0 0]\n",
      " ...\n",
      " [4 0 0 ... 0 0 0]\n",
      " [0 0 0 ... 0 0 0]\n",
      " [0 0 0 ... 0 0 0]]\n"
     ]
    }
   ],
   "source": [
    "from typing import TypeVar\n",
    "from sklearn.feature_extraction.text import TfidfVectorizer, CountVectorizer\n",
    "\n",
    "matrix = TypeVar('matrix')  # Defining type for x\n",
    "pd_Series = TypeVar('pd_Series')\n",
    "# Converting into a vector of word count.\n",
    "x: matrix = CountVectorizer().fit_transform(df['text'])\n",
    "y: pd_Series = df['spam']\n",
    "print(x)\n",
    "print(x.toarray())"
   ],
   "metadata": {
    "collapsed": false
   }
  },
  {
   "cell_type": "code",
   "execution_count": 298,
   "outputs": [
    {
     "data": {
      "text/plain": "0.9885864793678666"
     },
     "execution_count": 298,
     "metadata": {},
     "output_type": "execute_result"
    }
   ],
   "source": [
    "from sklearn.metrics import accuracy_score\n",
    "from sklearn.linear_model import LogisticRegression\n",
    "from sklearn.model_selection import train_test_split\n",
    "\n",
    "#Split the data into 80% training and 20% testing\n",
    "x_train, x_test, y_train, y_test = train_test_split(x, y, test_size=0.2, random_state=42)\n",
    "\n",
    "Spam_model = LogisticRegression(solver='liblinear', penalty='l1')\n",
    "Spam_model.fit(x_train, y_train)\n",
    "pred = Spam_model.predict(x_test)\n",
    "accuracy_score(y_test, pred)"
   ],
   "metadata": {
    "collapsed": false
   }
  },
  {
   "cell_type": "code",
   "execution_count": 299,
   "outputs": [
    {
     "name": "stdout",
     "output_type": "stream",
     "text": [
      "  (0, 18484)\t0.05065361378044374\n",
      "  (0, 26335)\t0.07326325045246485\n",
      "  (0, 24728)\t0.03169809527667246\n",
      "  (0, 5553)\t0.027172568615857276\n",
      "  (0, 20946)\t0.04488162569698162\n",
      "  (0, 16708)\t0.02400981857764169\n",
      "  (0, 9051)\t0.08785588350130605\n",
      "  (0, 33442)\t0.02436760586894425\n",
      "  (0, 28820)\t0.07095093846641097\n",
      "  (0, 21035)\t0.07779396393379931\n",
      "  (0, 32540)\t0.10265887666677022\n",
      "  (0, 14966)\t0.020094268162248623\n",
      "  (0, 14472)\t0.08613196468782616\n",
      "  (0, 14143)\t0.08049521650838198\n",
      "  (0, 23726)\t0.04332977347771834\n",
      "  (0, 36362)\t0.02455920586912909\n",
      "  (0, 8314)\t0.062211869131624666\n",
      "  (0, 4742)\t0.06949561036311931\n",
      "  (0, 34728)\t0.08660570366581676\n",
      "  (0, 27172)\t0.05304587337998871\n",
      "  (0, 16334)\t0.07849937238737897\n",
      "  (0, 29796)\t0.08590029521223708\n",
      "  (0, 342)\t0.06509480920340016\n",
      "  (0, 7379)\t0.08204045463823473\n",
      "  (0, 15523)\t0.09760530981107943\n",
      "  :\t:\n",
      "  (5692, 36362)\t0.011458318778278548\n",
      "  (5692, 33500)\t0.023609653851220134\n",
      "  (5692, 36886)\t0.009262329316446844\n",
      "  (5692, 18884)\t0.025253079194168176\n",
      "  (5692, 8311)\t0.028929663877503013\n",
      "  (5692, 34964)\t0.04498317940053049\n",
      "  (5692, 17913)\t0.0298614005822036\n",
      "  (5692, 12114)\t0.0290496642509952\n",
      "  (5692, 21244)\t0.026293655039331062\n",
      "  (5692, 22794)\t0.01849511618874931\n",
      "  (5692, 18855)\t0.01280595421381776\n",
      "  (5692, 33327)\t0.0365933537889533\n",
      "  (5692, 35894)\t0.06028752244991721\n",
      "  (5692, 12573)\t0.03853352035017137\n",
      "  (5692, 21377)\t0.02043936975300009\n",
      "  (5692, 35955)\t0.02835721032073162\n",
      "  (5692, 7527)\t0.018588763109517126\n",
      "  (5692, 18178)\t0.0936874987499989\n",
      "  (5692, 4822)\t0.1092039268191807\n",
      "  (5692, 24203)\t0.07629136059054996\n",
      "  (5692, 21601)\t0.0721929443880974\n",
      "  (5692, 33336)\t0.16576220935959413\n",
      "  (5692, 33682)\t0.09716618170466391\n",
      "  (5692, 18791)\t0.040724452904624744\n",
      "  (5692, 32261)\t0.007403860966570929\n",
      "[[0.         0.         0.         ... 0.         0.         0.        ]\n",
      " [0.         0.         0.         ... 0.         0.         0.        ]\n",
      " [0.         0.         0.         ... 0.         0.         0.        ]\n",
      " ...\n",
      " [0.11401306 0.         0.         ... 0.         0.         0.        ]\n",
      " [0.         0.         0.         ... 0.         0.         0.        ]\n",
      " [0.         0.         0.         ... 0.         0.         0.        ]]\n"
     ]
    }
   ],
   "source": [
    "# Do it again with TfidfVectorizer\n",
    "\n",
    "x: matrix = TfidfVectorizer().fit_transform(df['text'])\n",
    "print(x)\n",
    "print(x.toarray())"
   ],
   "metadata": {
    "collapsed": false
   }
  },
  {
   "cell_type": "code",
   "execution_count": 300,
   "outputs": [
    {
     "data": {
      "text/plain": "0.9648814749780509"
     },
     "execution_count": 300,
     "metadata": {},
     "output_type": "execute_result"
    }
   ],
   "source": [
    "#Split the data into 80% training and 20% testing\n",
    "x_train, x_test, y_train, y_test = train_test_split(x, y, test_size=0.2, random_state=42)\n",
    "\n",
    "# Again, checking the accuracy to see if vectorization strategy has any effect.\n",
    "Spam_model = LogisticRegression(solver='liblinear', penalty='l1')\n",
    "Spam_model.fit(x_train, y_train)\n",
    "pred = Spam_model.predict(x_test)\n",
    "accuracy_score(y_test, pred)\n"
   ],
   "metadata": {
    "collapsed": false
   }
  },
  {
   "cell_type": "markdown",
   "source": [
    "<font size=\"6\">It seems like that there is **some effect** but not a huge effect.</font>\n"
   ],
   "metadata": {
    "collapsed": false
   }
  },
  {
   "cell_type": "code",
   "execution_count": null,
   "outputs": [],
   "source": [
    "# Todo: Check with another model. Maybe MultinomialNB, Binomial etc."
   ],
   "metadata": {
    "collapsed": false
   }
  }
 ],
 "metadata": {
  "kernelspec": {
   "display_name": "Python 3",
   "language": "python",
   "name": "python3"
  },
  "language_info": {
   "codemirror_mode": {
    "name": "ipython",
    "version": 2
   },
   "file_extension": ".py",
   "mimetype": "text/x-python",
   "name": "python",
   "nbconvert_exporter": "python",
   "pygments_lexer": "ipython2",
   "version": "2.7.6"
  }
 },
 "nbformat": 4,
 "nbformat_minor": 0
}

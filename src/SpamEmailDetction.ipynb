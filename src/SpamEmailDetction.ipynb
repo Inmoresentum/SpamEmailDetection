{
 "cells": [
  {
   "cell_type": "code",
   "execution_count": 205,
   "outputs": [],
   "source": [
    "import numpy as np\n",
    "import pandas as pd"
   ],
   "metadata": {
    "collapsed": false
   }
  },
  {
   "cell_type": "markdown",
   "source": [
    "## Loading the dataset checking the shape."
   ],
   "metadata": {
    "collapsed": false
   }
  },
  {
   "cell_type": "code",
   "execution_count": 206,
   "outputs": [
    {
     "name": "stdout",
     "output_type": "stream",
     "text": [
      "(5730, 110)\n"
     ]
    }
   ],
   "source": [
    "df: pd.DataFrame = pd.read_csv(\"Dataset/emails.csv\")\n",
    "# printing the shape of the dataset\n",
    "print(df.shape)"
   ],
   "metadata": {
    "collapsed": false
   }
  },
  {
   "cell_type": "markdown",
   "source": [
    "## Checking heads and tails for 10 rows of dataset."
   ],
   "metadata": {
    "collapsed": false
   }
  },
  {
   "cell_type": "code",
   "execution_count": 207,
   "outputs": [
    {
     "data": {
      "text/plain": "                                                text spam Unnamed: 2  \\\n0  Subject: naturally irresistible your corporate...  YES        NaN   \n1  Subject: the stock trading gunslinger  fanny i...  YES        NaN   \n2  Subject: unbelievable new homes made easy  im ...  YES        NaN   \n3  Subject: 4 color printing special  request add...  YES        NaN   \n4  Subject: do not have money , get software cds ...  YES        NaN   \n5  Subject: great nnews  hello , welcome to medzo...  YES        NaN   \n6  Subject: here ' s a hot play in motion  homela...  YES        NaN   \n7  Subject: save your money buy getting this thin...  YES        NaN   \n8  Subject: undeliverable : home based business f...  YES        NaN   \n9  Subject: save your money buy getting this thin...  YES        NaN   \n\n  Unnamed: 3 Unnamed: 4 Unnamed: 5 Unnamed: 6 Unnamed: 7 Unnamed: 8  \\\n0        NaN        NaN        NaN        NaN        NaN        NaN   \n1        NaN        NaN        NaN        NaN        NaN        NaN   \n2        NaN        NaN        NaN        NaN        NaN        NaN   \n3        NaN        NaN        NaN        NaN        NaN        NaN   \n4        NaN        NaN        NaN        NaN        NaN        NaN   \n5        NaN        NaN        NaN        NaN        NaN        NaN   \n6        NaN        NaN        NaN        NaN        NaN        NaN   \n7        NaN        NaN        NaN        NaN        NaN        NaN   \n8        NaN        NaN        NaN        NaN        NaN        NaN   \n9        NaN        NaN        NaN        NaN        NaN        NaN   \n\n  Unnamed: 9  ... Unnamed: 100 Unnamed: 101 Unnamed: 102 Unnamed: 103  \\\n0        NaN  ...          NaN          NaN          NaN          NaN   \n1        NaN  ...          NaN          NaN          NaN          NaN   \n2        NaN  ...          NaN          NaN          NaN          NaN   \n3        NaN  ...          NaN          NaN          NaN          NaN   \n4        NaN  ...          NaN          NaN          NaN          NaN   \n5        NaN  ...          NaN          NaN          NaN          NaN   \n6        NaN  ...          NaN          NaN          NaN          NaN   \n7        NaN  ...          NaN          NaN          NaN          NaN   \n8        NaN  ...          NaN          NaN          NaN          NaN   \n9        NaN  ...          NaN          NaN          NaN          NaN   \n\n  Unnamed: 104 Unnamed: 105 Unnamed: 106 Unnamed: 107 Unnamed: 108  \\\n0          NaN          NaN          NaN          NaN          NaN   \n1          NaN          NaN          NaN          NaN          NaN   \n2          NaN          NaN          NaN          NaN          NaN   \n3          NaN          NaN          NaN          NaN          NaN   \n4          NaN          NaN          NaN          NaN          NaN   \n5          NaN          NaN          NaN          NaN          NaN   \n6          NaN          NaN          NaN          NaN          NaN   \n7          NaN          NaN          NaN          NaN          NaN   \n8          NaN          NaN          NaN          NaN          NaN   \n9          NaN          NaN          NaN          NaN          NaN   \n\n  Unnamed: 109  \n0          NaN  \n1          NaN  \n2          NaN  \n3          NaN  \n4          NaN  \n5          NaN  \n6          NaN  \n7          NaN  \n8          NaN  \n9          NaN  \n\n[10 rows x 110 columns]",
      "text/html": "<div>\n<style scoped>\n    .dataframe tbody tr th:only-of-type {\n        vertical-align: middle;\n    }\n\n    .dataframe tbody tr th {\n        vertical-align: top;\n    }\n\n    .dataframe thead th {\n        text-align: right;\n    }\n</style>\n<table border=\"1\" class=\"dataframe\">\n  <thead>\n    <tr style=\"text-align: right;\">\n      <th></th>\n      <th>text</th>\n      <th>spam</th>\n      <th>Unnamed: 2</th>\n      <th>Unnamed: 3</th>\n      <th>Unnamed: 4</th>\n      <th>Unnamed: 5</th>\n      <th>Unnamed: 6</th>\n      <th>Unnamed: 7</th>\n      <th>Unnamed: 8</th>\n      <th>Unnamed: 9</th>\n      <th>...</th>\n      <th>Unnamed: 100</th>\n      <th>Unnamed: 101</th>\n      <th>Unnamed: 102</th>\n      <th>Unnamed: 103</th>\n      <th>Unnamed: 104</th>\n      <th>Unnamed: 105</th>\n      <th>Unnamed: 106</th>\n      <th>Unnamed: 107</th>\n      <th>Unnamed: 108</th>\n      <th>Unnamed: 109</th>\n    </tr>\n  </thead>\n  <tbody>\n    <tr>\n      <th>0</th>\n      <td>Subject: naturally irresistible your corporate...</td>\n      <td>YES</td>\n      <td>NaN</td>\n      <td>NaN</td>\n      <td>NaN</td>\n      <td>NaN</td>\n      <td>NaN</td>\n      <td>NaN</td>\n      <td>NaN</td>\n      <td>NaN</td>\n      <td>...</td>\n      <td>NaN</td>\n      <td>NaN</td>\n      <td>NaN</td>\n      <td>NaN</td>\n      <td>NaN</td>\n      <td>NaN</td>\n      <td>NaN</td>\n      <td>NaN</td>\n      <td>NaN</td>\n      <td>NaN</td>\n    </tr>\n    <tr>\n      <th>1</th>\n      <td>Subject: the stock trading gunslinger  fanny i...</td>\n      <td>YES</td>\n      <td>NaN</td>\n      <td>NaN</td>\n      <td>NaN</td>\n      <td>NaN</td>\n      <td>NaN</td>\n      <td>NaN</td>\n      <td>NaN</td>\n      <td>NaN</td>\n      <td>...</td>\n      <td>NaN</td>\n      <td>NaN</td>\n      <td>NaN</td>\n      <td>NaN</td>\n      <td>NaN</td>\n      <td>NaN</td>\n      <td>NaN</td>\n      <td>NaN</td>\n      <td>NaN</td>\n      <td>NaN</td>\n    </tr>\n    <tr>\n      <th>2</th>\n      <td>Subject: unbelievable new homes made easy  im ...</td>\n      <td>YES</td>\n      <td>NaN</td>\n      <td>NaN</td>\n      <td>NaN</td>\n      <td>NaN</td>\n      <td>NaN</td>\n      <td>NaN</td>\n      <td>NaN</td>\n      <td>NaN</td>\n      <td>...</td>\n      <td>NaN</td>\n      <td>NaN</td>\n      <td>NaN</td>\n      <td>NaN</td>\n      <td>NaN</td>\n      <td>NaN</td>\n      <td>NaN</td>\n      <td>NaN</td>\n      <td>NaN</td>\n      <td>NaN</td>\n    </tr>\n    <tr>\n      <th>3</th>\n      <td>Subject: 4 color printing special  request add...</td>\n      <td>YES</td>\n      <td>NaN</td>\n      <td>NaN</td>\n      <td>NaN</td>\n      <td>NaN</td>\n      <td>NaN</td>\n      <td>NaN</td>\n      <td>NaN</td>\n      <td>NaN</td>\n      <td>...</td>\n      <td>NaN</td>\n      <td>NaN</td>\n      <td>NaN</td>\n      <td>NaN</td>\n      <td>NaN</td>\n      <td>NaN</td>\n      <td>NaN</td>\n      <td>NaN</td>\n      <td>NaN</td>\n      <td>NaN</td>\n    </tr>\n    <tr>\n      <th>4</th>\n      <td>Subject: do not have money , get software cds ...</td>\n      <td>YES</td>\n      <td>NaN</td>\n      <td>NaN</td>\n      <td>NaN</td>\n      <td>NaN</td>\n      <td>NaN</td>\n      <td>NaN</td>\n      <td>NaN</td>\n      <td>NaN</td>\n      <td>...</td>\n      <td>NaN</td>\n      <td>NaN</td>\n      <td>NaN</td>\n      <td>NaN</td>\n      <td>NaN</td>\n      <td>NaN</td>\n      <td>NaN</td>\n      <td>NaN</td>\n      <td>NaN</td>\n      <td>NaN</td>\n    </tr>\n    <tr>\n      <th>5</th>\n      <td>Subject: great nnews  hello , welcome to medzo...</td>\n      <td>YES</td>\n      <td>NaN</td>\n      <td>NaN</td>\n      <td>NaN</td>\n      <td>NaN</td>\n      <td>NaN</td>\n      <td>NaN</td>\n      <td>NaN</td>\n      <td>NaN</td>\n      <td>...</td>\n      <td>NaN</td>\n      <td>NaN</td>\n      <td>NaN</td>\n      <td>NaN</td>\n      <td>NaN</td>\n      <td>NaN</td>\n      <td>NaN</td>\n      <td>NaN</td>\n      <td>NaN</td>\n      <td>NaN</td>\n    </tr>\n    <tr>\n      <th>6</th>\n      <td>Subject: here ' s a hot play in motion  homela...</td>\n      <td>YES</td>\n      <td>NaN</td>\n      <td>NaN</td>\n      <td>NaN</td>\n      <td>NaN</td>\n      <td>NaN</td>\n      <td>NaN</td>\n      <td>NaN</td>\n      <td>NaN</td>\n      <td>...</td>\n      <td>NaN</td>\n      <td>NaN</td>\n      <td>NaN</td>\n      <td>NaN</td>\n      <td>NaN</td>\n      <td>NaN</td>\n      <td>NaN</td>\n      <td>NaN</td>\n      <td>NaN</td>\n      <td>NaN</td>\n    </tr>\n    <tr>\n      <th>7</th>\n      <td>Subject: save your money buy getting this thin...</td>\n      <td>YES</td>\n      <td>NaN</td>\n      <td>NaN</td>\n      <td>NaN</td>\n      <td>NaN</td>\n      <td>NaN</td>\n      <td>NaN</td>\n      <td>NaN</td>\n      <td>NaN</td>\n      <td>...</td>\n      <td>NaN</td>\n      <td>NaN</td>\n      <td>NaN</td>\n      <td>NaN</td>\n      <td>NaN</td>\n      <td>NaN</td>\n      <td>NaN</td>\n      <td>NaN</td>\n      <td>NaN</td>\n      <td>NaN</td>\n    </tr>\n    <tr>\n      <th>8</th>\n      <td>Subject: undeliverable : home based business f...</td>\n      <td>YES</td>\n      <td>NaN</td>\n      <td>NaN</td>\n      <td>NaN</td>\n      <td>NaN</td>\n      <td>NaN</td>\n      <td>NaN</td>\n      <td>NaN</td>\n      <td>NaN</td>\n      <td>...</td>\n      <td>NaN</td>\n      <td>NaN</td>\n      <td>NaN</td>\n      <td>NaN</td>\n      <td>NaN</td>\n      <td>NaN</td>\n      <td>NaN</td>\n      <td>NaN</td>\n      <td>NaN</td>\n      <td>NaN</td>\n    </tr>\n    <tr>\n      <th>9</th>\n      <td>Subject: save your money buy getting this thin...</td>\n      <td>YES</td>\n      <td>NaN</td>\n      <td>NaN</td>\n      <td>NaN</td>\n      <td>NaN</td>\n      <td>NaN</td>\n      <td>NaN</td>\n      <td>NaN</td>\n      <td>NaN</td>\n      <td>...</td>\n      <td>NaN</td>\n      <td>NaN</td>\n      <td>NaN</td>\n      <td>NaN</td>\n      <td>NaN</td>\n      <td>NaN</td>\n      <td>NaN</td>\n      <td>NaN</td>\n      <td>NaN</td>\n      <td>NaN</td>\n    </tr>\n  </tbody>\n</table>\n<p>10 rows × 110 columns</p>\n</div>"
     },
     "execution_count": 207,
     "metadata": {},
     "output_type": "execute_result"
    }
   ],
   "source": [
    "# Viewing the first 10 rows of the dataset.\n",
    "df.head(10)"
   ],
   "metadata": {
    "collapsed": false
   }
  },
  {
   "cell_type": "code",
   "execution_count": 208,
   "outputs": [
    {
     "data": {
      "text/plain": "                                                   text spam Unnamed: 2  \\\n5720  Subject: altos na gas model  kim , i know you ...   NO        NaN   \n5721  Subject: power market research  i came across ...   NO        NaN   \n5722  Subject: re : visit to houston  fyi  - - - - -...   NO        NaN   \n5723  Subject: ees risk management presentations for...   NO        NaN   \n5724  Subject: re : vacation  vince :  i just found ...   NO        NaN   \n5725  Subject: re : research and development charges...   NO        NaN   \n5726  Subject: re : receipts from visit  jim ,  than...   NO        NaN   \n5727  Subject: re : enron case study update  wow ! a...   NO        NaN   \n5728  Subject: re : interest  david ,  please , call...   NO        NaN   \n5729  Subject: news : aurora 5 . 2 update  aurora ve...   NO        NaN   \n\n     Unnamed: 3 Unnamed: 4 Unnamed: 5 Unnamed: 6 Unnamed: 7 Unnamed: 8  \\\n5720        NaN        NaN        NaN        NaN        NaN        NaN   \n5721        NaN        NaN        NaN        NaN        NaN        NaN   \n5722        NaN        NaN        NaN        NaN        NaN        NaN   \n5723        NaN        NaN        NaN        NaN        NaN        NaN   \n5724        NaN        NaN        NaN        NaN        NaN        NaN   \n5725        NaN        NaN        NaN        NaN        NaN        NaN   \n5726        NaN        NaN        NaN        NaN        NaN        NaN   \n5727        NaN        NaN        NaN        NaN        NaN        NaN   \n5728        NaN        NaN        NaN        NaN        NaN        NaN   \n5729        NaN        NaN        NaN        NaN        NaN        NaN   \n\n     Unnamed: 9  ... Unnamed: 100 Unnamed: 101 Unnamed: 102 Unnamed: 103  \\\n5720        NaN  ...          NaN          NaN          NaN          NaN   \n5721        NaN  ...          NaN          NaN          NaN          NaN   \n5722        NaN  ...          NaN          NaN          NaN          NaN   \n5723        NaN  ...          NaN          NaN          NaN          NaN   \n5724        NaN  ...          NaN          NaN          NaN          NaN   \n5725        NaN  ...          NaN          NaN          NaN          NaN   \n5726        NaN  ...          NaN          NaN          NaN          NaN   \n5727        NaN  ...          NaN          NaN          NaN          NaN   \n5728        NaN  ...          NaN          NaN          NaN          NaN   \n5729        NaN  ...          NaN          NaN          NaN          NaN   \n\n     Unnamed: 104 Unnamed: 105 Unnamed: 106 Unnamed: 107 Unnamed: 108  \\\n5720          NaN          NaN          NaN          NaN          NaN   \n5721          NaN          NaN          NaN          NaN          NaN   \n5722          NaN          NaN          NaN          NaN          NaN   \n5723          NaN          NaN          NaN          NaN          NaN   \n5724          NaN          NaN          NaN          NaN          NaN   \n5725          NaN          NaN          NaN          NaN          NaN   \n5726          NaN          NaN          NaN          NaN          NaN   \n5727          NaN          NaN          NaN          NaN          NaN   \n5728          NaN          NaN          NaN          NaN          NaN   \n5729          NaN          NaN          NaN          NaN          NaN   \n\n     Unnamed: 109  \n5720          NaN  \n5721          NaN  \n5722          NaN  \n5723          NaN  \n5724          NaN  \n5725          NaN  \n5726          NaN  \n5727          NaN  \n5728          NaN  \n5729          NaN  \n\n[10 rows x 110 columns]",
      "text/html": "<div>\n<style scoped>\n    .dataframe tbody tr th:only-of-type {\n        vertical-align: middle;\n    }\n\n    .dataframe tbody tr th {\n        vertical-align: top;\n    }\n\n    .dataframe thead th {\n        text-align: right;\n    }\n</style>\n<table border=\"1\" class=\"dataframe\">\n  <thead>\n    <tr style=\"text-align: right;\">\n      <th></th>\n      <th>text</th>\n      <th>spam</th>\n      <th>Unnamed: 2</th>\n      <th>Unnamed: 3</th>\n      <th>Unnamed: 4</th>\n      <th>Unnamed: 5</th>\n      <th>Unnamed: 6</th>\n      <th>Unnamed: 7</th>\n      <th>Unnamed: 8</th>\n      <th>Unnamed: 9</th>\n      <th>...</th>\n      <th>Unnamed: 100</th>\n      <th>Unnamed: 101</th>\n      <th>Unnamed: 102</th>\n      <th>Unnamed: 103</th>\n      <th>Unnamed: 104</th>\n      <th>Unnamed: 105</th>\n      <th>Unnamed: 106</th>\n      <th>Unnamed: 107</th>\n      <th>Unnamed: 108</th>\n      <th>Unnamed: 109</th>\n    </tr>\n  </thead>\n  <tbody>\n    <tr>\n      <th>5720</th>\n      <td>Subject: altos na gas model  kim , i know you ...</td>\n      <td>NO</td>\n      <td>NaN</td>\n      <td>NaN</td>\n      <td>NaN</td>\n      <td>NaN</td>\n      <td>NaN</td>\n      <td>NaN</td>\n      <td>NaN</td>\n      <td>NaN</td>\n      <td>...</td>\n      <td>NaN</td>\n      <td>NaN</td>\n      <td>NaN</td>\n      <td>NaN</td>\n      <td>NaN</td>\n      <td>NaN</td>\n      <td>NaN</td>\n      <td>NaN</td>\n      <td>NaN</td>\n      <td>NaN</td>\n    </tr>\n    <tr>\n      <th>5721</th>\n      <td>Subject: power market research  i came across ...</td>\n      <td>NO</td>\n      <td>NaN</td>\n      <td>NaN</td>\n      <td>NaN</td>\n      <td>NaN</td>\n      <td>NaN</td>\n      <td>NaN</td>\n      <td>NaN</td>\n      <td>NaN</td>\n      <td>...</td>\n      <td>NaN</td>\n      <td>NaN</td>\n      <td>NaN</td>\n      <td>NaN</td>\n      <td>NaN</td>\n      <td>NaN</td>\n      <td>NaN</td>\n      <td>NaN</td>\n      <td>NaN</td>\n      <td>NaN</td>\n    </tr>\n    <tr>\n      <th>5722</th>\n      <td>Subject: re : visit to houston  fyi  - - - - -...</td>\n      <td>NO</td>\n      <td>NaN</td>\n      <td>NaN</td>\n      <td>NaN</td>\n      <td>NaN</td>\n      <td>NaN</td>\n      <td>NaN</td>\n      <td>NaN</td>\n      <td>NaN</td>\n      <td>...</td>\n      <td>NaN</td>\n      <td>NaN</td>\n      <td>NaN</td>\n      <td>NaN</td>\n      <td>NaN</td>\n      <td>NaN</td>\n      <td>NaN</td>\n      <td>NaN</td>\n      <td>NaN</td>\n      <td>NaN</td>\n    </tr>\n    <tr>\n      <th>5723</th>\n      <td>Subject: ees risk management presentations for...</td>\n      <td>NO</td>\n      <td>NaN</td>\n      <td>NaN</td>\n      <td>NaN</td>\n      <td>NaN</td>\n      <td>NaN</td>\n      <td>NaN</td>\n      <td>NaN</td>\n      <td>NaN</td>\n      <td>...</td>\n      <td>NaN</td>\n      <td>NaN</td>\n      <td>NaN</td>\n      <td>NaN</td>\n      <td>NaN</td>\n      <td>NaN</td>\n      <td>NaN</td>\n      <td>NaN</td>\n      <td>NaN</td>\n      <td>NaN</td>\n    </tr>\n    <tr>\n      <th>5724</th>\n      <td>Subject: re : vacation  vince :  i just found ...</td>\n      <td>NO</td>\n      <td>NaN</td>\n      <td>NaN</td>\n      <td>NaN</td>\n      <td>NaN</td>\n      <td>NaN</td>\n      <td>NaN</td>\n      <td>NaN</td>\n      <td>NaN</td>\n      <td>...</td>\n      <td>NaN</td>\n      <td>NaN</td>\n      <td>NaN</td>\n      <td>NaN</td>\n      <td>NaN</td>\n      <td>NaN</td>\n      <td>NaN</td>\n      <td>NaN</td>\n      <td>NaN</td>\n      <td>NaN</td>\n    </tr>\n    <tr>\n      <th>5725</th>\n      <td>Subject: re : research and development charges...</td>\n      <td>NO</td>\n      <td>NaN</td>\n      <td>NaN</td>\n      <td>NaN</td>\n      <td>NaN</td>\n      <td>NaN</td>\n      <td>NaN</td>\n      <td>NaN</td>\n      <td>NaN</td>\n      <td>...</td>\n      <td>NaN</td>\n      <td>NaN</td>\n      <td>NaN</td>\n      <td>NaN</td>\n      <td>NaN</td>\n      <td>NaN</td>\n      <td>NaN</td>\n      <td>NaN</td>\n      <td>NaN</td>\n      <td>NaN</td>\n    </tr>\n    <tr>\n      <th>5726</th>\n      <td>Subject: re : receipts from visit  jim ,  than...</td>\n      <td>NO</td>\n      <td>NaN</td>\n      <td>NaN</td>\n      <td>NaN</td>\n      <td>NaN</td>\n      <td>NaN</td>\n      <td>NaN</td>\n      <td>NaN</td>\n      <td>NaN</td>\n      <td>...</td>\n      <td>NaN</td>\n      <td>NaN</td>\n      <td>NaN</td>\n      <td>NaN</td>\n      <td>NaN</td>\n      <td>NaN</td>\n      <td>NaN</td>\n      <td>NaN</td>\n      <td>NaN</td>\n      <td>NaN</td>\n    </tr>\n    <tr>\n      <th>5727</th>\n      <td>Subject: re : enron case study update  wow ! a...</td>\n      <td>NO</td>\n      <td>NaN</td>\n      <td>NaN</td>\n      <td>NaN</td>\n      <td>NaN</td>\n      <td>NaN</td>\n      <td>NaN</td>\n      <td>NaN</td>\n      <td>NaN</td>\n      <td>...</td>\n      <td>NaN</td>\n      <td>NaN</td>\n      <td>NaN</td>\n      <td>NaN</td>\n      <td>NaN</td>\n      <td>NaN</td>\n      <td>NaN</td>\n      <td>NaN</td>\n      <td>NaN</td>\n      <td>NaN</td>\n    </tr>\n    <tr>\n      <th>5728</th>\n      <td>Subject: re : interest  david ,  please , call...</td>\n      <td>NO</td>\n      <td>NaN</td>\n      <td>NaN</td>\n      <td>NaN</td>\n      <td>NaN</td>\n      <td>NaN</td>\n      <td>NaN</td>\n      <td>NaN</td>\n      <td>NaN</td>\n      <td>...</td>\n      <td>NaN</td>\n      <td>NaN</td>\n      <td>NaN</td>\n      <td>NaN</td>\n      <td>NaN</td>\n      <td>NaN</td>\n      <td>NaN</td>\n      <td>NaN</td>\n      <td>NaN</td>\n      <td>NaN</td>\n    </tr>\n    <tr>\n      <th>5729</th>\n      <td>Subject: news : aurora 5 . 2 update  aurora ve...</td>\n      <td>NO</td>\n      <td>NaN</td>\n      <td>NaN</td>\n      <td>NaN</td>\n      <td>NaN</td>\n      <td>NaN</td>\n      <td>NaN</td>\n      <td>NaN</td>\n      <td>NaN</td>\n      <td>...</td>\n      <td>NaN</td>\n      <td>NaN</td>\n      <td>NaN</td>\n      <td>NaN</td>\n      <td>NaN</td>\n      <td>NaN</td>\n      <td>NaN</td>\n      <td>NaN</td>\n      <td>NaN</td>\n      <td>NaN</td>\n    </tr>\n  </tbody>\n</table>\n<p>10 rows × 110 columns</p>\n</div>"
     },
     "execution_count": 208,
     "metadata": {},
     "output_type": "execute_result"
    }
   ],
   "source": [
    "# Viewing the last 10 rows of the datasets.\n",
    "df.tail(10)"
   ],
   "metadata": {
    "collapsed": false
   }
  },
  {
   "cell_type": "markdown",
   "source": [
    "## Data preprocessing"
   ],
   "metadata": {
    "collapsed": false
   }
  },
  {
   "cell_type": "code",
   "execution_count": 209,
   "outputs": [
    {
     "name": "stdout",
     "output_type": "stream",
     "text": [
      "text               0\n",
      "spam               2\n",
      "Unnamed: 2      5728\n",
      "Unnamed: 3      5728\n",
      "Unnamed: 4      5728\n",
      "                ... \n",
      "Unnamed: 105    5728\n",
      "Unnamed: 106    5728\n",
      "Unnamed: 107    5729\n",
      "Unnamed: 108    5729\n",
      "Unnamed: 109    5729\n",
      "Length: 110, dtype: int64\n"
     ]
    }
   ],
   "source": [
    "# Checking for null values.\n",
    "print(df.isnull().sum())"
   ],
   "metadata": {
    "collapsed": false
   }
  },
  {
   "cell_type": "markdown",
   "source": [
    "<font size=\"6\">A lot of Unnamed **null/NaN** columns. Need to get rid of them.</font>"
   ],
   "metadata": {
    "collapsed": false
   }
  },
  {
   "cell_type": "code",
   "execution_count": 210,
   "outputs": [],
   "source": [
    "# Getting rid of these unnecessary null columns.\n",
    "df = df.iloc[:, :2]"
   ],
   "metadata": {
    "collapsed": false
   }
  },
  {
   "cell_type": "code",
   "execution_count": 211,
   "outputs": [
    {
     "name": "stdout",
     "output_type": "stream",
     "text": [
      "(5730, 2)\n"
     ]
    },
    {
     "data": {
      "text/plain": "                                                text spam\n0  Subject: naturally irresistible your corporate...  YES\n1  Subject: the stock trading gunslinger  fanny i...  YES\n2  Subject: unbelievable new homes made easy  im ...  YES\n3  Subject: 4 color printing special  request add...  YES\n4  Subject: do not have money , get software cds ...  YES\n5  Subject: great nnews  hello , welcome to medzo...  YES\n6  Subject: here ' s a hot play in motion  homela...  YES\n7  Subject: save your money buy getting this thin...  YES\n8  Subject: undeliverable : home based business f...  YES\n9  Subject: save your money buy getting this thin...  YES",
      "text/html": "<div>\n<style scoped>\n    .dataframe tbody tr th:only-of-type {\n        vertical-align: middle;\n    }\n\n    .dataframe tbody tr th {\n        vertical-align: top;\n    }\n\n    .dataframe thead th {\n        text-align: right;\n    }\n</style>\n<table border=\"1\" class=\"dataframe\">\n  <thead>\n    <tr style=\"text-align: right;\">\n      <th></th>\n      <th>text</th>\n      <th>spam</th>\n    </tr>\n  </thead>\n  <tbody>\n    <tr>\n      <th>0</th>\n      <td>Subject: naturally irresistible your corporate...</td>\n      <td>YES</td>\n    </tr>\n    <tr>\n      <th>1</th>\n      <td>Subject: the stock trading gunslinger  fanny i...</td>\n      <td>YES</td>\n    </tr>\n    <tr>\n      <th>2</th>\n      <td>Subject: unbelievable new homes made easy  im ...</td>\n      <td>YES</td>\n    </tr>\n    <tr>\n      <th>3</th>\n      <td>Subject: 4 color printing special  request add...</td>\n      <td>YES</td>\n    </tr>\n    <tr>\n      <th>4</th>\n      <td>Subject: do not have money , get software cds ...</td>\n      <td>YES</td>\n    </tr>\n    <tr>\n      <th>5</th>\n      <td>Subject: great nnews  hello , welcome to medzo...</td>\n      <td>YES</td>\n    </tr>\n    <tr>\n      <th>6</th>\n      <td>Subject: here ' s a hot play in motion  homela...</td>\n      <td>YES</td>\n    </tr>\n    <tr>\n      <th>7</th>\n      <td>Subject: save your money buy getting this thin...</td>\n      <td>YES</td>\n    </tr>\n    <tr>\n      <th>8</th>\n      <td>Subject: undeliverable : home based business f...</td>\n      <td>YES</td>\n    </tr>\n    <tr>\n      <th>9</th>\n      <td>Subject: save your money buy getting this thin...</td>\n      <td>YES</td>\n    </tr>\n  </tbody>\n</table>\n</div>"
     },
     "execution_count": 211,
     "metadata": {},
     "output_type": "execute_result"
    }
   ],
   "source": [
    "# Checking the current shape of data frame\n",
    "print(df.shape)\n",
    "df.head(10)"
   ],
   "metadata": {
    "collapsed": false
   }
  },
  {
   "cell_type": "markdown",
   "source": [],
   "metadata": {
    "collapsed": false
   }
  },
  {
   "cell_type": "markdown",
   "source": [
    " <font size=\"6\">Got rid of unnecessary null columns. However, `spam` column is not yet encoded. Need to encode it.</font>"
   ],
   "metadata": {
    "collapsed": false
   }
  },
  {
   "cell_type": "code",
   "execution_count": 212,
   "outputs": [
    {
     "data": {
      "text/plain": "array(['YES', 'NO', nan,\n       ' its termination would not  have such a phenomenal impact on the power situation .  however ',\n       ' mr suresh prabhu '], dtype=object)"
     },
     "execution_count": 212,
     "metadata": {},
     "output_type": "execute_result"
    }
   ],
   "source": [
    "# Will replace `YES` -> 1 and `NO` -> 0\n",
    "# But first need to check if how many **unique** values are there.\n",
    "# Depending on that, will need to choose the encoding type.\n",
    "df['spam'].unique()"
   ],
   "metadata": {
    "collapsed": false
   }
  },
  {
   "cell_type": "code",
   "execution_count": 213,
   "outputs": [
    {
     "name": "stdout",
     "output_type": "stream",
     "text": [
      "text    0\n",
      "spam    2\n",
      "dtype: int64\n"
     ]
    }
   ],
   "source": [
    "# Need to get rid of NaN and unnecessary things.\n",
    "print(df.isnull().sum())"
   ],
   "metadata": {
    "collapsed": false
   }
  },
  {
   "cell_type": "code",
   "execution_count": 214,
   "outputs": [
    {
     "name": "stdout",
     "output_type": "stream",
     "text": [
      "(5728, 2)\n"
     ]
    },
    {
     "data": {
      "text/plain": "text    0\nspam    0\ndtype: int64"
     },
     "execution_count": 214,
     "metadata": {},
     "output_type": "execute_result"
    }
   ],
   "source": [
    "df.dropna(inplace=True)\n",
    "print(df.shape)\n",
    "df.isnull().sum()"
   ],
   "metadata": {
    "collapsed": false
   }
  },
  {
   "cell_type": "code",
   "execution_count": 215,
   "outputs": [
    {
     "data": {
      "text/plain": "array(['YES', 'NO'], dtype=object)"
     },
     "execution_count": 215,
     "metadata": {},
     "output_type": "execute_result"
    }
   ],
   "source": [
    "# Got rid of NaN/null values now it's time to get rid of unnecessary values.\n",
    "index_of_unnecessary_values: np.ndarray = df[(df['spam'] != 'YES') & (df['spam'] != 'NO')].index.values\n",
    "# Got the index. Now it's time to drop them.\n",
    "df.drop(index_of_unnecessary_values, inplace=True)\n",
    "# Checking the checking if this worked.\n",
    "df['spam'].unique()"
   ],
   "metadata": {
    "collapsed": false
   }
  },
  {
   "cell_type": "markdown",
   "source": [
    "<font size=\"6\"> only two values! **Binary** categorical encoding </font>"
   ],
   "metadata": {
    "collapsed": false
   }
  },
  {
   "cell_type": "code",
   "execution_count": 216,
   "outputs": [
    {
     "name": "stdout",
     "output_type": "stream",
     "text": [
      "                                                text  spam\n",
      "0  Subject: naturally irresistible your corporate...     1\n",
      "1  Subject: the stock trading gunslinger  fanny i...     1\n",
      "2  Subject: unbelievable new homes made easy  im ...     1\n",
      "3  Subject: 4 color printing special  request add...     1\n",
      "4  Subject: do not have money , get software cds ...     1\n",
      "5  Subject: great nnews  hello , welcome to medzo...     1\n",
      "6  Subject: here ' s a hot play in motion  homela...     1\n",
      "7  Subject: save your money buy getting this thin...     1\n",
      "8  Subject: undeliverable : home based business f...     1\n",
      "9  Subject: save your money buy getting this thin...     1\n",
      "                                                   text  spam\n",
      "5720  Subject: altos na gas model  kim , i know you ...     0\n",
      "5721  Subject: power market research  i came across ...     0\n",
      "5722  Subject: re : visit to houston  fyi  - - - - -...     0\n",
      "5723  Subject: ees risk management presentations for...     0\n",
      "5724  Subject: re : vacation  vince :  i just found ...     0\n",
      "5725  Subject: re : research and development charges...     0\n",
      "5726  Subject: re : receipts from visit  jim ,  than...     0\n",
      "5727  Subject: re : enron case study update  wow ! a...     0\n",
      "5728  Subject: re : interest  david ,  please , call...     0\n",
      "5729  Subject: news : aurora 5 . 2 update  aurora ve...     0\n"
     ]
    }
   ],
   "source": [
    "# Using map() to make changes instead of using sk learn library.\n",
    "df['spam'] = df['spam'].map({'YES': 1, 'NO': 0})\n",
    "print(df.head(10))\n",
    "print(df.tail(10))"
   ],
   "metadata": {
    "collapsed": false
   }
  },
  {
   "cell_type": "code",
   "execution_count": 217,
   "outputs": [
    {
     "name": "stdout",
     "output_type": "stream",
     "text": [
      "True\n"
     ]
    }
   ],
   "source": [
    "# Now, need to check for the duplicate values and get rid of them as well.\n",
    "df.duplicated().values.__contains__(False)"
   ],
   "metadata": {
    "collapsed": false
   }
  },
  {
   "cell_type": "markdown",
   "source": [
    "<font size=\"6\">As the data set contains **duplicate** values. Need to get rid of them</font>"
   ],
   "metadata": {
    "collapsed": false
   }
  },
  {
   "cell_type": "code",
   "execution_count": 219,
   "outputs": [
    {
     "data": {
      "text/plain": "False"
     },
     "execution_count": 219,
     "metadata": {},
     "output_type": "execute_result"
    }
   ],
   "source": [
    "# It contains duplicate values, so need to get rid of them\n",
    "df.drop_duplicates(inplace=True)\n",
    "df.duplicated().values.__contains__(True)"
   ],
   "metadata": {
    "collapsed": false
   }
  },
  {
   "cell_type": "code",
   "execution_count": null,
   "outputs": [],
   "source": [],
   "metadata": {
    "collapsed": false
   }
  }
 ],
 "metadata": {
  "kernelspec": {
   "display_name": "Python 3",
   "language": "python",
   "name": "python3"
  },
  "language_info": {
   "codemirror_mode": {
    "name": "ipython",
    "version": 2
   },
   "file_extension": ".py",
   "mimetype": "text/x-python",
   "name": "python",
   "nbconvert_exporter": "python",
   "pygments_lexer": "ipython2",
   "version": "2.7.6"
  }
 },
 "nbformat": 4,
 "nbformat_minor": 0
}
